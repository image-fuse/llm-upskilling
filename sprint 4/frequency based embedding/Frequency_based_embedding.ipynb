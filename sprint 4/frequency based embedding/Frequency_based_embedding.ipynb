{
  "nbformat": 4,
  "nbformat_minor": 0,
  "metadata": {
    "colab": {
      "provenance": []
    },
    "kernelspec": {
      "name": "python3",
      "display_name": "Python 3"
    },
    "language_info": {
      "name": "python"
    }
  },
  "cells": [
    {
      "cell_type": "code",
      "execution_count": null,
      "metadata": {
        "id": "TQa2jVn_MnvG"
      },
      "outputs": [],
      "source": [
        "document_corpus = [\"this is good phone phone\" ,\n",
        "                   \"this is bad mobile mobile\" ,\n",
        "                   \"she is good good cat\" ,\n",
        "                   \"he has bad temper temper\" ,\n",
        "                   \"this mobile phone phone is not good good\"]"
      ]
    },
    {
      "cell_type": "code",
      "source": [
        "data_corpus = set()\n",
        "for row in document_corpus:\n",
        "    for word in row.split(\" \"):\n",
        "        if word not in data_corpus:\n",
        "            data_corpus.add(word)\n",
        "\n",
        "data_corpus=sorted(data_corpus)\n",
        "\n",
        "print(data_corpus)"
      ],
      "metadata": {
        "colab": {
          "base_uri": "https://localhost:8080/"
        },
        "id": "NRzlwSQXSPAF",
        "outputId": "25b0ab67-ac5a-43d7-ca0c-3e10f87de3ad"
      },
      "execution_count": null,
      "outputs": [
        {
          "output_type": "stream",
          "name": "stdout",
          "text": [
            "['bad', 'cat', 'good', 'has', 'he', 'is', 'mobile', 'not', 'phone', 'she', 'temper', 'this']\n"
          ]
        }
      ]
    },
    {
      "cell_type": "markdown",
      "source": [
        "## Index Based Encoding :"
      ],
      "metadata": {
        "id": "G7Frbu6JSXrG"
      }
    },
    {
      "cell_type": "code",
      "source": [
        "res = len(max(document_corpus, key = len).split(\" \"))\n",
        "print(res)"
      ],
      "metadata": {
        "colab": {
          "base_uri": "https://localhost:8080/"
        },
        "id": "Y3w3sBN6SU2x",
        "outputId": "42f13b76-b657-42ff-e7fa-66b78aa1e5cd"
      },
      "execution_count": null,
      "outputs": [
        {
          "output_type": "stream",
          "name": "stdout",
          "text": [
            "8\n"
          ]
        }
      ]
    },
    {
      "cell_type": "code",
      "source": [
        "index_based_encoding=[]\n",
        "for row in document_corpus:\n",
        "    row_encoding = []\n",
        "    split = row.split(\" \")\n",
        "    for i in range(res):\n",
        "        if i <= len(split)-1:\n",
        "            row_encoding.append(data_corpus.index(split[i])+1)\n",
        "        else:\n",
        "            row_encoding.append(0)\n",
        "    index_based_encoding.append(row_encoding)\n",
        "\n",
        "print(index_based_encoding)"
      ],
      "metadata": {
        "colab": {
          "base_uri": "https://localhost:8080/"
        },
        "id": "8Mhoe4uCSZIa",
        "outputId": "86c36c97-d6e3-4527-a7ca-1ae84cb352e6"
      },
      "execution_count": null,
      "outputs": [
        {
          "output_type": "stream",
          "name": "stdout",
          "text": [
            "[[12, 6, 3, 9, 9, 0, 0, 0], [12, 6, 1, 7, 7, 0, 0, 0], [10, 6, 3, 3, 2, 0, 0, 0], [5, 4, 1, 11, 11, 0, 0, 0], [12, 7, 9, 9, 6, 8, 3, 3]]\n"
          ]
        }
      ]
    },
    {
      "cell_type": "markdown",
      "source": [
        "## Bag Of Words (BoW) :"
      ],
      "metadata": {
        "id": "yDaZOCE7ScxW"
      }
    },
    {
      "cell_type": "markdown",
      "source": [
        "### 1. Binary BoW"
      ],
      "metadata": {
        "id": "aBVTo1dGSfsJ"
      }
    },
    {
      "cell_type": "code",
      "source": [
        "one_hot_encoding = []\n",
        "for row in document_corpus:\n",
        "    row_encoding = []\n",
        "    split = row.split(\" \")\n",
        "    for word in data_corpus:\n",
        "        if word in split:\n",
        "            row_encoding.append(1)\n",
        "        else:\n",
        "            row_encoding.append(0)\n",
        "    one_hot_encoding.append(row_encoding)\n",
        "\n",
        "print(one_hot_encoding)"
      ],
      "metadata": {
        "colab": {
          "base_uri": "https://localhost:8080/"
        },
        "id": "FPT0fkVqSa2B",
        "outputId": "4056132e-ad85-407c-bc56-16896dd438a5"
      },
      "execution_count": null,
      "outputs": [
        {
          "output_type": "stream",
          "name": "stdout",
          "text": [
            "[[0, 0, 1, 0, 0, 1, 0, 0, 1, 0, 0, 1], [1, 0, 0, 0, 0, 1, 1, 0, 0, 0, 0, 1], [0, 1, 1, 0, 0, 1, 0, 0, 0, 1, 0, 0], [1, 0, 0, 1, 1, 0, 0, 0, 0, 0, 1, 0], [0, 0, 1, 0, 0, 1, 1, 1, 1, 0, 0, 1]]\n"
          ]
        }
      ]
    },
    {
      "cell_type": "markdown",
      "source": [
        "### 2. BoW"
      ],
      "metadata": {
        "id": "8VLD9iBjSoXC"
      }
    },
    {
      "cell_type": "code",
      "source": [
        "one_hot_encoding = []\n",
        "for row in document_corpus:\n",
        "    row_encoding = []\n",
        "    split = row.split(\" \")\n",
        "    for word in data_corpus:\n",
        "        count = split.count(word)\n",
        "        if word in split:\n",
        "            row_encoding.append(count)\n",
        "        else:\n",
        "            row_encoding.append(count)\n",
        "    one_hot_encoding.append(row_encoding)\n",
        "\n",
        "print(one_hot_encoding)"
      ],
      "metadata": {
        "colab": {
          "base_uri": "https://localhost:8080/"
        },
        "id": "WCbrC536SjY9",
        "outputId": "bbcd01f4-f488-41fd-adc0-47a7ffa3073e"
      },
      "execution_count": null,
      "outputs": [
        {
          "output_type": "stream",
          "name": "stdout",
          "text": [
            "[[0, 0, 1, 0, 0, 1, 0, 0, 2, 0, 0, 1], [1, 0, 0, 0, 0, 1, 2, 0, 0, 0, 0, 1], [0, 1, 2, 0, 0, 1, 0, 0, 0, 1, 0, 0], [1, 0, 0, 1, 1, 0, 0, 0, 0, 0, 2, 0], [0, 0, 2, 0, 0, 1, 1, 1, 2, 0, 0, 1]]\n"
          ]
        }
      ]
    },
    {
      "cell_type": "markdown",
      "source": [
        "## TF-IDF Encoding :"
      ],
      "metadata": {
        "id": "sll7almxSrRR"
      }
    },
    {
      "cell_type": "code",
      "source": [
        "tf_dict = {}\n",
        "i=0\n",
        "for row in document_corpus:\n",
        "    row_dict={}\n",
        "    split = row.split(\" \")\n",
        "    for word in split:\n",
        "        if word not in row_dict.keys():\n",
        "            row_dict[word] = split.count(word)\n",
        "    tf_dict[i] = row_dict\n",
        "    i+=1\n",
        "\n",
        "print(tf_dict)"
      ],
      "metadata": {
        "colab": {
          "base_uri": "https://localhost:8080/"
        },
        "id": "4YtICChqSq0q",
        "outputId": "5324eae8-9d0d-4fd3-e76d-9dbc30161e81"
      },
      "execution_count": null,
      "outputs": [
        {
          "output_type": "stream",
          "name": "stdout",
          "text": [
            "{0: {'this': 1, 'is': 1, 'good': 1, 'phone': 2}, 1: {'this': 1, 'is': 1, 'bad': 1, 'mobile': 2}, 2: {'she': 1, 'is': 1, 'good': 2, 'cat': 1}, 3: {'he': 1, 'has': 1, 'bad': 1, 'temper': 2}, 4: {'this': 1, 'mobile': 1, 'phone': 2, 'is': 1, 'not': 1, 'good': 2}}\n"
          ]
        }
      ]
    },
    {
      "cell_type": "code",
      "source": [
        "import math\n",
        "def calculate_tf(word, sentence_num):\n",
        "    row_dict = tf_dict[int(sentence_num)]\n",
        "    return row_dict[word]/sum(row_dict.values())\n",
        "\n",
        "def calculate_idf(word):\n",
        "    doc_num = 0\n",
        "    for key, value in tf_dict.items():\n",
        "        if word in value.keys():\n",
        "            doc_num+=1\n",
        "    return math.log(len(data_corpus)/doc_num+1)\n",
        "\n",
        "def tf_idf(word, sentence_num):\n",
        "    return round(calculate_tf(word, sentence_num) * calculate_idf(word),5)"
      ],
      "metadata": {
        "id": "abyjZOJ-SsAh"
      },
      "execution_count": null,
      "outputs": []
    },
    {
      "cell_type": "code",
      "source": [
        "tf_idf('phone',0)"
      ],
      "metadata": {
        "colab": {
          "base_uri": "https://localhost:8080/"
        },
        "id": "WNvpHQOqSyY5",
        "outputId": "69a372d5-4c68-4604-e782-7d8d7d3d3ad2"
      },
      "execution_count": null,
      "outputs": [
        {
          "output_type": "execute_result",
          "data": {
            "text/plain": [
              "0.77836"
            ]
          },
          "metadata": {},
          "execution_count": 9
        }
      ]
    },
    {
      "cell_type": "code",
      "source": [
        "tf_idf_encoding = []\n",
        "for i in range(len(document_corpus)):\n",
        "    row = document_corpus[i]\n",
        "    split = row.split(\" \")\n",
        "    row_encoding = []\n",
        "    for word in data_corpus:\n",
        "        if word in split:\n",
        "            row_encoding.append(tf_idf(word,i))\n",
        "        else:\n",
        "            row_encoding.append(0)\n",
        "    tf_idf_encoding.append(row_encoding)\n",
        "\n",
        "print(tf_idf_encoding)"
      ],
      "metadata": {
        "colab": {
          "base_uri": "https://localhost:8080/"
        },
        "id": "0vStPIPhSzoL",
        "outputId": "dc812d90-f0e2-4bc5-f0bf-b9b7beec00f9"
      },
      "execution_count": null,
      "outputs": [
        {
          "output_type": "stream",
          "name": "stdout",
          "text": [
            "[[0, 0, 0.32189, 0, 0, 0.27726, 0, 0, 0.77836, 0, 0, 0.32189], [0.38918, 0, 0, 0, 0, 0.27726, 0.77836, 0, 0, 0, 0, 0.32189], [0, 0.51299, 0.64378, 0, 0, 0.27726, 0, 0, 0, 0.51299, 0, 0], [0.38918, 0, 0, 0.51299, 0.51299, 0, 0, 0, 0, 0, 1.02598, 0], [0, 0, 0.40236, 0, 0, 0.17329, 0.24324, 0.32062, 0.48648, 0, 0, 0.20118]]\n"
          ]
        }
      ]
    },
    {
      "cell_type": "markdown",
      "source": [
        "## Scikit-Learn Implementation:"
      ],
      "metadata": {
        "id": "FVs3cTT7S3FF"
      }
    },
    {
      "cell_type": "markdown",
      "source": [
        "### BoW Encoding"
      ],
      "metadata": {
        "id": "rhodjihOS470"
      }
    },
    {
      "cell_type": "code",
      "source": [
        "from sklearn.feature_extraction.text import CountVectorizer\n",
        "vectorizer = CountVectorizer()\n",
        "X = vectorizer.fit_transform(document_corpus)\n",
        "print(vectorizer.get_feature_names_out())"
      ],
      "metadata": {
        "colab": {
          "base_uri": "https://localhost:8080/"
        },
        "id": "Et3J2ObKS1IJ",
        "outputId": "c3406663-cae8-49c1-e998-86136d346940"
      },
      "execution_count": null,
      "outputs": [
        {
          "output_type": "stream",
          "name": "stdout",
          "text": [
            "['bad' 'cat' 'good' 'has' 'he' 'is' 'mobile' 'not' 'phone' 'she' 'temper'\n",
            " 'this']\n"
          ]
        }
      ]
    },
    {
      "cell_type": "code",
      "source": [
        "print(X.toarray())"
      ],
      "metadata": {
        "colab": {
          "base_uri": "https://localhost:8080/"
        },
        "id": "UtlWt4wlS65Z",
        "outputId": "275071ce-e023-4e04-85b4-9f898bbcec5c"
      },
      "execution_count": null,
      "outputs": [
        {
          "output_type": "stream",
          "name": "stdout",
          "text": [
            "[[0 0 1 0 0 1 0 0 2 0 0 1]\n",
            " [1 0 0 0 0 1 2 0 0 0 0 1]\n",
            " [0 1 2 0 0 1 0 0 0 1 0 0]\n",
            " [1 0 0 1 1 0 0 0 0 0 2 0]\n",
            " [0 0 2 0 0 1 1 1 2 0 0 1]]\n"
          ]
        }
      ]
    },
    {
      "cell_type": "markdown",
      "source": [
        "### TF-IDF Encoding"
      ],
      "metadata": {
        "id": "dm9FGJjQThra"
      }
    },
    {
      "cell_type": "code",
      "source": [
        "from sklearn.feature_extraction.text import TfidfVectorizer\n",
        "vectorizer = TfidfVectorizer()\n",
        "X = vectorizer.fit_transform(document_corpus)\n",
        "print(vectorizer.get_feature_names_out())"
      ],
      "metadata": {
        "colab": {
          "base_uri": "https://localhost:8080/"
        },
        "id": "EagDg8u_Tfxj",
        "outputId": "4948473d-d821-48d3-be11-6ac00a36e8c9"
      },
      "execution_count": null,
      "outputs": [
        {
          "output_type": "stream",
          "name": "stdout",
          "text": [
            "['bad' 'cat' 'good' 'has' 'he' 'is' 'mobile' 'not' 'phone' 'she' 'temper'\n",
            " 'this']\n"
          ]
        }
      ]
    },
    {
      "cell_type": "code",
      "source": [
        "print(X.toarray())"
      ],
      "metadata": {
        "colab": {
          "base_uri": "https://localhost:8080/"
        },
        "id": "qlqebfJDTlkf",
        "outputId": "a6c4065c-8cf8-4557-ea2a-c5e129928d85"
      },
      "execution_count": null,
      "outputs": [
        {
          "output_type": "stream",
          "name": "stdout",
          "text": [
            "[[0.         0.         0.34273991 0.         0.         0.28832362\n",
            "  0.         0.         0.82578944 0.         0.         0.34273991]\n",
            " [0.4023674  0.         0.         0.         0.         0.28097242\n",
            "  0.80473481 0.         0.         0.         0.         0.33400129]\n",
            " [0.         0.49317635 0.6605719  0.         0.         0.27784695\n",
            "  0.         0.         0.         0.49317635 0.         0.        ]\n",
            " [0.31283963 0.         0.         0.38775666 0.38775666 0.\n",
            "  0.         0.         0.         0.         0.77551332 0.        ]\n",
            " [0.         0.         0.51309679 0.         0.         0.2158166\n",
            "  0.30906082 0.38307292 0.61812163 0.         0.         0.2565484 ]]\n"
          ]
        }
      ]
    }
  ]
}